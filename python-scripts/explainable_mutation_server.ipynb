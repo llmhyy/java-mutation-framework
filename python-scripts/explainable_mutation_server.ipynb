{
 "cells": [
  {
   "cell_type": "code",
   "execution_count": 2,
   "id": "b5049eaa",
   "metadata": {},
   "outputs": [
    {
     "name": "stdout",
     "output_type": "stream",
     "text": [
      "cuda:1\n"
     ]
    },
    {
     "name": "stderr",
     "output_type": "stream",
     "text": [
      "/home/chenghin/anaconda3/envs/explainable-mutation/lib/python3.10/site-packages/tqdm/auto.py:21: TqdmWarning: IProgress not found. Please update jupyter and ipywidgets. See https://ipywidgets.readthedocs.io/en/stable/user_install.html\n",
      "  from .autonotebook import tqdm as notebook_tqdm\n"
     ]
    },
    {
     "data": {
      "text/plain": [
       "1"
      ]
     },
     "execution_count": 2,
     "metadata": {},
     "output_type": "execute_result"
    }
   ],
   "source": [
    "# run nvidia-smi to check for available gpus, and change cuda_device_num value below\n",
    "import torch\n",
    "cuda_device_num = 1\n",
    "device = torch.device(\"cuda:\" + str(cuda_device_num) if torch.cuda.is_available() else \"cpu\")\n",
    "print(device)\n",
    "torch.cuda.set_device(cuda_device_num)\n",
    "torch.cuda.current_device()"
   ]
  },
  {
   "cell_type": "code",
   "execution_count": 3,
   "id": "5b967e27",
   "metadata": {},
   "outputs": [],
   "source": [
    "# modify these paths to your system's\n",
    "MODEL_METHOD_MUTATION_PATH = \"/home/chenghin/Desktop/repos/java-mutation-framework/models/code-generation/saved_models/checkpoint-best-score\"\n",
    "MODEL_COMMENT_MUTATION_PATH = \"/home/chenghin/Desktop/repos/java-mutation-framework/models/codet5_base_all_lr5_bs32_src64_trg64_pat5_e10/checkpoint-best-bleu\""
   ]
  },
  {
   "cell_type": "code",
   "execution_count": 4,
   "id": "435483af",
   "metadata": {},
   "outputs": [],
   "source": [
    "from model import Seq2Seq # Copy pasted from https://github.com/microsoft/CodeBERT/blob/master/UniXcoder/downstream-tasks/code-generation/model.py\n",
    "from transformers import RobertaTokenizer, RobertaConfig, RobertaModel, T5ForConditionalGeneration, AutoTokenizer\n",
    "\n",
    "PRETRAINED_MODEL_NAME_UNIXCODER = \"microsoft/unixcoder-base\"\n",
    "PRETRAINED_MODEL_NAME_CODET5 = \"Salesforce/codet5-base-multi-sum\"\n",
    "\n",
    "class TokenizerModelPair:\n",
    "    def __init__(self, model, tokenizer):\n",
    "        self.model = model\n",
    "        self.tokenizer = tokenizer\n",
    "\n",
    "def build_model(pretrained_model_name):\n",
    "    if pretrained_model_name == PRETRAINED_MODEL_NAME_UNIXCODER:\n",
    "        # build model\n",
    "        tokenizer = RobertaTokenizer.from_pretrained(pretrained_model_name)\n",
    "        config = RobertaConfig.from_pretrained(pretrained_model_name)\n",
    "        # important！You must set is_decoder to True for generation\n",
    "        config.is_decoder = True\n",
    "        encoder = RobertaModel.from_pretrained(pretrained_model_name,config=config)\n",
    "        model = Seq2Seq(encoder=encoder,decoder=encoder,config=config,\n",
    "                        beam_size=10,max_length=256,\n",
    "                        sos_id=tokenizer.convert_tokens_to_ids([\"<mask0>\"])[0],eos_id=tokenizer.sep_token_id)\n",
    "    else:\n",
    "        # build model\n",
    "        tokenizer = AutoTokenizer.from_pretrained(pretrained_model_name)\n",
    "        model = T5ForConditionalGeneration.from_pretrained(pretrained_model_name)\n",
    "    return TokenizerModelPair(model, tokenizer)"
   ]
  },
  {
   "cell_type": "code",
   "execution_count": 5,
   "id": "0ece22f3",
   "metadata": {},
   "outputs": [
    {
     "name": "stdout",
     "output_type": "stream",
     "text": [
      "Updated!!!\n"
     ]
    }
   ],
   "source": [
    "unixcoder_model_and_tokenizer = build_model(PRETRAINED_MODEL_NAME_UNIXCODER)\n",
    "codet5_model_and_tokenizer = build_model(PRETRAINED_MODEL_NAME_CODET5)"
   ]
  },
  {
   "cell_type": "code",
   "execution_count": 6,
   "id": "2d29dbb5",
   "metadata": {},
   "outputs": [],
   "source": [
    "import os\n",
    "def load_model(model, load_model_path='fine_tuned_models'):\n",
    "    model_to_load = model.module if hasattr(model, 'module') else model\n",
    "    load_model_path = os.path.join(load_model_path, 'pytorch_model.bin')\n",
    "    model.load_state_dict(torch.load(load_model_path, map_location='cpu'))\n",
    "    model.to(device)"
   ]
  },
  {
   "cell_type": "code",
   "execution_count": 7,
   "id": "c666e699",
   "metadata": {},
   "outputs": [],
   "source": [
    "load_model(unixcoder_model_and_tokenizer.model, MODEL_METHOD_MUTATION_PATH)\n",
    "load_model(codet5_model_and_tokenizer.model, MODEL_COMMENT_MUTATION_PATH)"
   ]
  },
  {
   "cell_type": "code",
   "execution_count": 8,
   "id": "f36f8755",
   "metadata": {},
   "outputs": [],
   "source": [
    "# def get_tokens\n",
    "\n",
    "def predict(model, tokenizer, code, gold):\n",
    "    input_ids = tokenizer(code, return_tensors=\"pt\").input_ids\n",
    "    generated_ids = model.generate(input_ids.to(device))\n",
    "    if len(generated_ids.size()) == 3: # decoder takes in a 2d tensor. If 3d, remove the outer dimension\n",
    "        generated_ids = torch.squeeze(generated_ids, 0)\n",
    "    comment = tokenizer.decode(generated_ids[0], skip_special_tokens=True)\n",
    "    return comment, getSmoothBLEU4(gold, comment)"
   ]
  },
  {
   "cell_type": "code",
   "execution_count": 9,
   "id": "04259c7f",
   "metadata": {},
   "outputs": [],
   "source": [
    "import nltk\n",
    "from nltk.translate.bleu_score import SmoothingFunction\n",
    "chencherry = SmoothingFunction()\n",
    "def getSmoothBLEU4(gold, result):\n",
    "    BLEUscore = nltk.translate.bleu_score.sentence_bleu([gold.split()], result.split(), weights = [0.25,0.25,0.25,0.25], smoothing_function=chencherry.method2)\n",
    "    return round(BLEUscore,4)"
   ]
  },
  {
   "cell_type": "code",
   "execution_count": 10,
   "id": "a948115e",
   "metadata": {},
   "outputs": [],
   "source": [
    "code = '''\n",
    "public RequestMethodsRequestCondition getMatchingCondition(ServerWebExchange exchange) {\n",
    "                if (CorsUtils.isPreFlightRequest(exchange.getRequest())) {\n",
    "                        return matchPreFlight(exchange.getRequest());\n",
    "                }\n",
    "                if (getMethods().isEmpty()) {\n",
    "                        if (RequestMethod.OPTIONS.name().equals(exchange.getRequest().getMethodValue())) {\n",
    "                                return null; // We handle OPTIONS transparently, so don't match if no explicit declarations\n",
    "                        }\n",
    "                        return this;\n",
    "                }\n",
    "                return matchRequestMethod(exchange.getRequest().getMethod());\n",
    "        }\n",
    "\n",
    "'''"
   ]
  },
  {
   "cell_type": "code",
   "execution_count": 11,
   "id": "d9049fdd",
   "metadata": {},
   "outputs": [],
   "source": [
    "gold = 'check if any of the http request methods match the given request and return an instance that contains the matching http request method only'"
   ]
  },
  {
   "cell_type": "code",
   "execution_count": 12,
   "id": "a26c7b59",
   "metadata": {},
   "outputs": [
    {
     "data": {
      "text/plain": [
       "(\"public RequestMethodsRequestCondition getMatchingCondition(ServerWebExchange exchange) {\\n                if (CorsUtils.isPreFlightRequest(exchange.getRequest())) {\\n                        return matchPreFlight(exchange.getRequest());\\n                }\\n                if (getMethods().isEmpty()) {\\n                        if (RequestMethod.OPTIONS.name().equals(exchange.getRequest().getMethodValue())) {\\n                                return null; // We handle OPTIONS transparently, so don't match if no explicit declarations\\n                        }\\n                        return this;\\n                }\",\n",
       " 0.0384)"
      ]
     },
     "execution_count": 12,
     "metadata": {},
     "output_type": "execute_result"
    }
   ],
   "source": [
    "predict(unixcoder_model_and_tokenizer.model, unixcoder_model_and_tokenizer.tokenizer, code, gold) # test method mutation"
   ]
  },
  {
   "cell_type": "code",
   "execution_count": 13,
   "id": "5884bf28",
   "metadata": {},
   "outputs": [
    {
     "name": "stderr",
     "output_type": "stream",
     "text": [
      "/home/chenghin/anaconda3/envs/explainable-mutation/lib/python3.10/site-packages/transformers/generation/utils.py:1288: UserWarning: Using `max_length`'s default (20) to control the generation length. This behaviour is deprecated and will be removed from the config in v5 of Transformers -- we recommend using `max_new_tokens` to control the maximum length of the generation.\n",
      "  warnings.warn(\n"
     ]
    },
    {
     "data": {
      "text/plain": [
       "('if any of the http request methods match the given request and return an instance that contains',\n",
       " 0.0236)"
      ]
     },
     "execution_count": 13,
     "metadata": {},
     "output_type": "execute_result"
    }
   ],
   "source": [
    "predict(codet5_model_and_tokenizer.model, codet5_model_and_tokenizer.tokenizer, gold, code) # test comment mutation"
   ]
  },
  {
   "cell_type": "code",
   "execution_count": 14,
   "id": "54ae1f4f",
   "metadata": {},
   "outputs": [],
   "source": [
    "class ExplainableMutator:\n",
    "    def __init__(self, comment_mutation_model, comment_mutation_tokenizer,\n",
    "                 method_mutation_model, method_mutation_tokenizer):\n",
    "        self.comment_mutation_model = comment_mutation_model\n",
    "        self.comment_mutation_tokenizer = comment_mutation_tokenizer\n",
    "        self.method_mutation_model = method_mutation_model\n",
    "        self.method_mutation_tokenizer = method_mutation_tokenizer\n",
    "\n",
    "    def generate(self, comment, method_body):\n",
    "        mutated_comment = predict(self.comment_mutation_model, self.comment_mutation_tokenizer, \n",
    "                                  comment, comment)[0]\n",
    "        mutated_method = predict(self.method_mutation_model, self.method_mutation_tokenizer, \n",
    "                                 method_body, method_body)[0]\n",
    "        return [mutated_comment, mutated_method]"
   ]
  },
  {
   "cell_type": "code",
   "execution_count": 16,
   "id": "71f64ec4",
   "metadata": {},
   "outputs": [
    {
     "name": "stderr",
     "output_type": "stream",
     "text": [
      "test_generate (__main__.TestExplainableMutator) ... /home/chenghin/anaconda3/envs/explainable-mutation/lib/python3.10/site-packages/transformers/generation/utils.py:1288: UserWarning: Using `max_length`'s default (20) to control the generation length. This behaviour is deprecated and will be removed from the config in v5 of Transformers -- we recommend using `max_new_tokens` to control the maximum length of the generation.\n",
      "  warnings.warn(\n",
      "ok\n",
      "\n",
      "----------------------------------------------------------------------\n",
      "Ran 1 test in 0.422s\n",
      "\n",
      "OK\n"
     ]
    },
    {
     "data": {
      "text/plain": [
       "<unittest.main.TestProgram at 0x7f66f1d7f130>"
      ]
     },
     "execution_count": 16,
     "metadata": {},
     "output_type": "execute_result"
    }
   ],
   "source": [
    "# Tests\n",
    "import unittest\n",
    "from numpy.testing import assert_array_equal\n",
    "\n",
    "TEST_FILES_PATH = \"./test-files\"\n",
    "\n",
    "class TestExplainableMutator(unittest.TestCase):\n",
    "    \n",
    "    def setUp(self):\n",
    "        self.mutator = ExplainableMutator(codet5_model_and_tokenizer.model, codet5_model_and_tokenizer.tokenizer,\n",
    "                                         unixcoder_model_and_tokenizer.model, unixcoder_model_and_tokenizer.tokenizer) \n",
    "\n",
    "# ======================== Integration tests =====================\n",
    "    def test_generate(self):\n",
    "        comment = \"20\"\n",
    "        method_body = \"\"\n",
    "        [mutated_comment, mutated_method] = self.mutator.generate(comment, method_body)\n",
    "        self.assertNotEqual(comment, mutated_comment)\n",
    "        self.assertNotEqual(method_body, mutated_method)\n",
    "\n",
    "        \n",
    "unittest.main(argv=[''], verbosity=2, exit=False)"
   ]
  },
  {
   "cell_type": "code",
   "execution_count": 17,
   "id": "b929e409",
   "metadata": {},
   "outputs": [],
   "source": [
    "%run ./SocketServer.ipynb"
   ]
  },
  {
   "cell_type": "code",
   "execution_count": 18,
   "id": "00791fe4",
   "metadata": {},
   "outputs": [],
   "source": [
    "class ExplainableMutationSocketServer(SocketServer):\n",
    "    def __init__(self, host, port, explainable_mutator):\n",
    "        super().__init__(host, port)\n",
    "        self.explainable_mutator = explainable_mutator\n",
    "\n",
    "    def func(self):\n",
    "        while True:\n",
    "            print(\"-\"*20)\n",
    "            comment = self.recvMsg()\n",
    "            method_body = self.recvMsg()\n",
    "            [mutated_comment, mutated_method] = self.explainable_mutator.generate(comment, method_body)\n",
    "            self.sendMsg(mutated_comment)\n",
    "            self.sendMsg(mutated_method)"
   ]
  },
  {
   "cell_type": "code",
   "execution_count": 20,
   "id": "9e7f7111",
   "metadata": {},
   "outputs": [],
   "source": [
    "HOST = \"127.0.0.1\"\n",
    "PORT = 8080\n",
    "server = ExplainableMutationSocketServer(HOST, PORT, ExplainableMutator(codet5_model_and_tokenizer.model, codet5_model_and_tokenizer.tokenizer,\n",
    "                                         unixcoder_model_and_tokenizer.model, unixcoder_model_and_tokenizer.tokenizer) )"
   ]
  },
  {
   "cell_type": "code",
   "execution_count": null,
   "id": "c385840d",
   "metadata": {},
   "outputs": [],
   "source": [
    "server.start()"
   ]
  }
 ],
 "metadata": {
  "kernelspec": {
   "display_name": "Python 3 (ipykernel)",
   "language": "python",
   "name": "python3"
  },
  "language_info": {
   "codemirror_mode": {
    "name": "ipython",
    "version": 3
   },
   "file_extension": ".py",
   "mimetype": "text/x-python",
   "name": "python",
   "nbconvert_exporter": "python",
   "pygments_lexer": "ipython3",
   "version": "3.10.10"
  }
 },
 "nbformat": 4,
 "nbformat_minor": 5
}
