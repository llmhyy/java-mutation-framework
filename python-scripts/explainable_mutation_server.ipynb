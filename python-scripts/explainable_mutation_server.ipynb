{
 "cells": [
  {
   "cell_type": "code",
   "execution_count": 19,
   "id": "b5049eaa",
   "metadata": {},
   "outputs": [
    {
     "name": "stdout",
     "output_type": "stream",
     "text": [
      "cuda:1\n"
     ]
    },
    {
     "data": {
      "text/plain": [
       "1"
      ]
     },
     "execution_count": 19,
     "metadata": {},
     "output_type": "execute_result"
    }
   ],
   "source": [
    "# run nvidia-smi to check for available gpus, and change cuda_device_num value below\n",
    "import torch\n",
    "cuda_device_num = 1\n",
    "device = torch.device(\"cuda:\" + str(cuda_device_num) if torch.cuda.is_available() else \"cpu\")\n",
    "print(device)\n",
    "torch.cuda.set_device(cuda_device_num)\n",
    "torch.cuda.current_device()"
   ]
  },
  {
   "cell_type": "code",
   "execution_count": 20,
   "id": "5b967e27",
   "metadata": {},
   "outputs": [],
   "source": [
    "# modify these paths to your system's\n",
    "MODEL_METHOD_MUTATION_PATH = \"/home/chenghin/Desktop/repos/java-mutation-framework/models/code-generation/saved_models/checkpoint-best-score\"\n",
    "MODEL_COMMENT_MUTATION_PATH = \"/home/chenghin/Desktop/repos/java-mutation-framework/models/codet5_base_all_lr5_bs32_src64_trg64_pat5_e10/checkpoint-best-bleu\""
   ]
  },
  {
   "cell_type": "code",
   "execution_count": 21,
   "id": "435483af",
   "metadata": {},
   "outputs": [],
   "source": [
    "from model import Seq2Seq # Copy pasted from https://github.com/microsoft/CodeBERT/blob/master/UniXcoder/downstream-tasks/code-generation/model.py\n",
    "from transformers import RobertaTokenizer, RobertaConfig, RobertaModel, T5ForConditionalGeneration, AutoTokenizer\n",
    "\n",
    "PRETRAINED_MODEL_NAME_UNIXCODER = \"microsoft/unixcoder-base\"\n",
    "PRETRAINED_MODEL_NAME_CODET5 = \"Salesforce/codet5-base-multi-sum\"\n",
    "\n",
    "class TokenizerModelPair:\n",
    "    def __init__(self, model, tokenizer):\n",
    "        self.model = model\n",
    "        self.tokenizer = tokenizer\n",
    "\n",
    "def build_model(pretrained_model_name):\n",
    "    if pretrained_model_name == PRETRAINED_MODEL_NAME_UNIXCODER:\n",
    "        # build model\n",
    "        tokenizer = RobertaTokenizer.from_pretrained(pretrained_model_name)\n",
    "        config = RobertaConfig.from_pretrained(pretrained_model_name)\n",
    "        # important！You must set is_decoder to True for generation\n",
    "        config.is_decoder = True\n",
    "        encoder = RobertaModel.from_pretrained(pretrained_model_name,config=config)\n",
    "        model = Seq2Seq(encoder=encoder,decoder=encoder,config=config,\n",
    "                        beam_size=10,max_length=256,\n",
    "                        sos_id=tokenizer.convert_tokens_to_ids([\"<mask0>\"])[0],eos_id=tokenizer.sep_token_id)\n",
    "    else:\n",
    "        # build model\n",
    "        tokenizer = AutoTokenizer.from_pretrained(pretrained_model_name)\n",
    "        model = T5ForConditionalGeneration.from_pretrained(pretrained_model_name)\n",
    "    return TokenizerModelPair(model, tokenizer)"
   ]
  },
  {
   "cell_type": "code",
   "execution_count": 22,
   "id": "0ece22f3",
   "metadata": {},
   "outputs": [
    {
     "name": "stdout",
     "output_type": "stream",
     "text": [
      "Updated!!!\n"
     ]
    }
   ],
   "source": [
    "unixcoder_model_and_tokenizer = build_model(PRETRAINED_MODEL_NAME_UNIXCODER)\n",
    "codet5_model_and_tokenizer = build_model(PRETRAINED_MODEL_NAME_CODET5)"
   ]
  },
  {
   "cell_type": "code",
   "execution_count": 23,
   "id": "2d29dbb5",
   "metadata": {},
   "outputs": [],
   "source": [
    "import os\n",
    "def load_model(model, load_model_path='fine_tuned_models'):\n",
    "    model_to_load = model.module if hasattr(model, 'module') else model\n",
    "    load_model_path = os.path.join(load_model_path, 'pytorch_model.bin')\n",
    "    model.load_state_dict(torch.load(load_model_path, map_location='cpu'))\n",
    "    model.to(device)"
   ]
  },
  {
   "cell_type": "code",
   "execution_count": 24,
   "id": "c666e699",
   "metadata": {},
   "outputs": [],
   "source": [
    "load_model(unixcoder_model_and_tokenizer.model, MODEL_METHOD_MUTATION_PATH)\n",
    "load_model(codet5_model_and_tokenizer.model, MODEL_COMMENT_MUTATION_PATH)"
   ]
  },
  {
   "cell_type": "code",
   "execution_count": 25,
   "id": "f36f8755",
   "metadata": {},
   "outputs": [],
   "source": [
    "# def get_tokens\n",
    "\n",
    "def predict(model, tokenizer, code, gold):\n",
    "    input_ids = tokenizer(code, return_tensors=\"pt\").input_ids\n",
    "    generated_ids = model.generate(input_ids.to(device))\n",
    "    if len(generated_ids.size()) == 3: # decoder takes in a 2d tensor. If 3d, remove the outer dimension\n",
    "        generated_ids = torch.squeeze(generated_ids, 0)\n",
    "    comment = tokenizer.decode(generated_ids[0], skip_special_tokens=True)\n",
    "    return comment, getSmoothBLEU4(gold, comment)"
   ]
  },
  {
   "cell_type": "code",
   "execution_count": 26,
   "id": "04259c7f",
   "metadata": {},
   "outputs": [],
   "source": [
    "import nltk\n",
    "from nltk.translate.bleu_score import SmoothingFunction\n",
    "chencherry = SmoothingFunction()\n",
    "def getSmoothBLEU4(gold, result):\n",
    "    BLEUscore = nltk.translate.bleu_score.sentence_bleu([gold.split()], result.split(), weights = [0.25,0.25,0.25,0.25], smoothing_function=chencherry.method2)\n",
    "    return round(BLEUscore,4)"
   ]
  },
  {
   "cell_type": "code",
   "execution_count": 27,
   "id": "a948115e",
   "metadata": {},
   "outputs": [],
   "source": [
    "code = '''\n",
    "public RequestMethodsRequestCondition getMatchingCondition(ServerWebExchange exchange) {\n",
    "                if (CorsUtils.isPreFlightRequest(exchange.getRequest())) {\n",
    "                        return matchPreFlight(exchange.getRequest());\n",
    "                }\n",
    "                if (getMethods().isEmpty()) {\n",
    "                        if (RequestMethod.OPTIONS.name().equals(exchange.getRequest().getMethodValue())) {\n",
    "                                return null; // We handle OPTIONS transparently, so don't match if no explicit declarations\n",
    "                        }\n",
    "                        return this;\n",
    "                }\n",
    "                return matchRequestMethod(exchange.getRequest().getMethod());\n",
    "        }\n",
    "\n",
    "'''"
   ]
  },
  {
   "cell_type": "code",
   "execution_count": 28,
   "id": "d9049fdd",
   "metadata": {},
   "outputs": [],
   "source": [
    "gold = 'check if any of the http request methods match the given request and return an instance that contains the matching http request method only'"
   ]
  },
  {
   "cell_type": "code",
   "execution_count": 29,
   "id": "a26c7b59",
   "metadata": {},
   "outputs": [
    {
     "data": {
      "text/plain": [
       "(\"public RequestMethodsRequestCondition getMatchingCondition(ServerWebExchange exchange) {\\n                if (CorsUtils.isPreFlightRequest(exchange.getRequest())) {\\n                        return matchPreFlight(exchange.getRequest());\\n                }\\n                if (getMethods().isEmpty()) {\\n                        if (RequestMethod.OPTIONS.name().equals(exchange.getRequest().getMethodValue())) {\\n                                return null; // We handle OPTIONS transparently, so don't match if no explicit declarations\\n                        }\\n                        return this;\\n                }\",\n",
       " 0.0384)"
      ]
     },
     "execution_count": 29,
     "metadata": {},
     "output_type": "execute_result"
    }
   ],
   "source": [
    "predict(unixcoder_model_and_tokenizer.model, unixcoder_model_and_tokenizer.tokenizer, code, gold) # test method mutation"
   ]
  },
  {
   "cell_type": "code",
   "execution_count": 30,
   "id": "5884bf28",
   "metadata": {},
   "outputs": [
    {
     "name": "stderr",
     "output_type": "stream",
     "text": [
      "/home/chenghin/anaconda3/envs/explainable-mutation/lib/python3.10/site-packages/transformers/generation/utils.py:1288: UserWarning: Using `max_length`'s default (20) to control the generation length. This behaviour is deprecated and will be removed from the config in v5 of Transformers -- we recommend using `max_new_tokens` to control the maximum length of the generation.\n",
      "  warnings.warn(\n"
     ]
    },
    {
     "data": {
      "text/plain": [
       "('if any of the http request methods match the given request and return an instance that contains',\n",
       " 0.0236)"
      ]
     },
     "execution_count": 30,
     "metadata": {},
     "output_type": "execute_result"
    }
   ],
   "source": [
    "predict(codet5_model_and_tokenizer.model, codet5_model_and_tokenizer.tokenizer, gold, code) # test comment mutation"
   ]
  },
  {
   "cell_type": "code",
   "execution_count": 31,
   "id": "54ae1f4f",
   "metadata": {},
   "outputs": [],
   "source": [
    "class ExplainableMutator:\n",
    "    def __init__(self, comment_mutation_model, comment_mutation_tokenizer,\n",
    "                 method_mutation_model, method_mutation_tokenizer):\n",
    "        self.comment_mutation_model = comment_mutation_model\n",
    "        self.comment_mutation_tokenizer = comment_mutation_tokenizer\n",
    "        self.method_mutation_model = method_mutation_model\n",
    "        self.method_mutation_tokenizer = method_mutation_tokenizer\n",
    "\n",
    "    def generate(self, comment, method_body):\n",
    "        mutated_comment = predict(self.comment_mutation_model, self.comment_mutation_tokenizer, \n",
    "                                  comment, comment)[0]\n",
    "        method_with_comment = comment + \"</s>\" + method_body\n",
    "        mutated_method = predict(self.method_mutation_model, self.method_mutation_tokenizer, \n",
    "                                 method_with_comment, method_with_comment)[0]\n",
    "        return [mutated_comment, mutated_method]"
   ]
  },
  {
   "cell_type": "code",
   "execution_count": 32,
   "id": "71f64ec4",
   "metadata": {},
   "outputs": [
    {
     "name": "stderr",
     "output_type": "stream",
     "text": [
      "test_generate (__main__.TestExplainableMutator) ... /home/chenghin/anaconda3/envs/explainable-mutation/lib/python3.10/site-packages/transformers/generation/utils.py:1288: UserWarning: Using `max_length`'s default (20) to control the generation length. This behaviour is deprecated and will be removed from the config in v5 of Transformers -- we recommend using `max_new_tokens` to control the maximum length of the generation.\n",
      "  warnings.warn(\n",
      "ok\n",
      "\n",
      "----------------------------------------------------------------------\n",
      "Ran 1 test in 0.434s\n",
      "\n",
      "OK\n"
     ]
    },
    {
     "data": {
      "text/plain": [
       "<unittest.main.TestProgram at 0x7fc4f93b0580>"
      ]
     },
     "execution_count": 32,
     "metadata": {},
     "output_type": "execute_result"
    }
   ],
   "source": [
    "# Tests\n",
    "import unittest\n",
    "from numpy.testing import assert_array_equal\n",
    "\n",
    "TEST_FILES_PATH = \"./test-files\"\n",
    "\n",
    "class TestExplainableMutator(unittest.TestCase):\n",
    "    \n",
    "    def setUp(self):\n",
    "        self.mutator = ExplainableMutator(codet5_model_and_tokenizer.model, codet5_model_and_tokenizer.tokenizer,\n",
    "                                         unixcoder_model_and_tokenizer.model, unixcoder_model_and_tokenizer.tokenizer) \n",
    "\n",
    "# ======================== Integration tests =====================\n",
    "    def test_generate(self):\n",
    "        comment = \"This method does nothing.\"\n",
    "        method_body = \"\"\"public void method() {\n",
    "            int a = 0;\n",
    "            return;\n",
    "        }\"\"\"\n",
    "        [mutated_comment, mutated_method] = self.mutator.generate(comment, method_body)\n",
    "        print(mutated_method)\n",
    "        self.assertNotEqual(comment, mutated_comment)\n",
    "        self.assertNotEqual(method_body, mutated_method)\n",
    "\n",
    "        \n",
    "unittest.main(argv=[''], verbosity=2, exit=False)"
   ]
  },
  {
   "cell_type": "code",
   "execution_count": 33,
   "id": "b929e409",
   "metadata": {},
   "outputs": [],
   "source": [
    "%run ./SocketServer.ipynb"
   ]
  },
  {
   "cell_type": "code",
   "execution_count": 34,
   "id": "00791fe4",
   "metadata": {},
   "outputs": [],
   "source": [
    "class ExplainableMutationSocketServer(SocketServer):\n",
    "    def __init__(self, host, port, explainable_mutator):\n",
    "        super().__init__(host, port)\n",
    "        self.explainable_mutator = explainable_mutator\n",
    "\n",
    "    def func(self):\n",
    "        while True:\n",
    "            print(\"-\"*20)\n",
    "            comment = self.recvMsg()\n",
    "            method_body = self.recvMsg()\n",
    "            try:\n",
    "                [mutated_comment, mutated_method] = self.explainable_mutator.generate(comment, method_body)\n",
    "            except RuntimeError as e:\n",
    "                self.sendMsg(\"FAIL\")\n",
    "                self.sendMsg(str(e))\n",
    "                continue\n",
    "            self.sendMsg(mutated_comment)\n",
    "            self.sendMsg(mutated_method)"
   ]
  },
  {
   "cell_type": "code",
   "execution_count": 35,
   "id": "9e7f7111",
   "metadata": {},
   "outputs": [],
   "source": [
    "HOST = \"127.0.0.1\"\n",
    "PORT = 8080\n",
    "server = ExplainableMutationSocketServer(HOST, PORT, ExplainableMutator(codet5_model_and_tokenizer.model, codet5_model_and_tokenizer.tokenizer,\n",
    "                                         unixcoder_model_and_tokenizer.model, unixcoder_model_and_tokenizer.tokenizer) )"
   ]
  },
  {
   "cell_type": "code",
   "execution_count": 38,
   "id": "c385840d",
   "metadata": {},
   "outputs": [
    {
     "name": "stdout",
     "output_type": "stream",
     "text": [
      "Connected by ('127.0.0.1', 33704)\n",
      "--------------------\n",
      "response: b'This method is a public method.'\n",
      "response: b'public void main(String[] args){\\n  for (int i=0; i < 5; i++) { a++;\\n    a=0;\\n    int b=0;\\n  }'\n",
      "--------------------\n"
     ]
    },
    {
     "ename": "ValueError",
     "evalue": "You need to specify either `text` or `text_target`.",
     "output_type": "error",
     "traceback": [
      "\u001b[0;31m---------------------------------------------------------------------------\u001b[0m",
      "\u001b[0;31mValueError\u001b[0m                                Traceback (most recent call last)",
      "Cell \u001b[0;32mIn[38], line 1\u001b[0m\n\u001b[0;32m----> 1\u001b[0m \u001b[43mserver\u001b[49m\u001b[38;5;241;43m.\u001b[39;49m\u001b[43mstart\u001b[49m\u001b[43m(\u001b[49m\u001b[43m)\u001b[49m\n",
      "File \u001b[0;32m/tmp/ipykernel_420196/1976711450.py:69\u001b[0m, in \u001b[0;36mSocketServer.start\u001b[0;34m(self)\u001b[0m\n\u001b[1;32m     67\u001b[0m \u001b[38;5;28;01mwith\u001b[39;00m \u001b[38;5;28mself\u001b[39m\u001b[38;5;241m.\u001b[39m_conn:\n\u001b[1;32m     68\u001b[0m     \u001b[38;5;28mprint\u001b[39m(\u001b[38;5;124mf\u001b[39m\u001b[38;5;124m\"\u001b[39m\u001b[38;5;124mConnected by \u001b[39m\u001b[38;5;132;01m{\u001b[39;00m\u001b[38;5;28mself\u001b[39m\u001b[38;5;241m.\u001b[39m_addr\u001b[38;5;132;01m}\u001b[39;00m\u001b[38;5;124m\"\u001b[39m)\n\u001b[0;32m---> 69\u001b[0m     \u001b[38;5;28;43mself\u001b[39;49m\u001b[38;5;241;43m.\u001b[39;49m\u001b[43mfunc\u001b[49m\u001b[43m(\u001b[49m\u001b[43m)\u001b[49m\n",
      "Cell \u001b[0;32mIn[34], line 11\u001b[0m, in \u001b[0;36mExplainableMutationSocketServer.func\u001b[0;34m(self)\u001b[0m\n\u001b[1;32m      9\u001b[0m comment \u001b[38;5;241m=\u001b[39m \u001b[38;5;28mself\u001b[39m\u001b[38;5;241m.\u001b[39mrecvMsg()\n\u001b[1;32m     10\u001b[0m method_body \u001b[38;5;241m=\u001b[39m \u001b[38;5;28mself\u001b[39m\u001b[38;5;241m.\u001b[39mrecvMsg()\n\u001b[0;32m---> 11\u001b[0m [mutated_comment, mutated_method] \u001b[38;5;241m=\u001b[39m \u001b[38;5;28;43mself\u001b[39;49m\u001b[38;5;241;43m.\u001b[39;49m\u001b[43mexplainable_mutator\u001b[49m\u001b[38;5;241;43m.\u001b[39;49m\u001b[43mgenerate\u001b[49m\u001b[43m(\u001b[49m\u001b[43mcomment\u001b[49m\u001b[43m,\u001b[49m\u001b[43m \u001b[49m\u001b[43mmethod_body\u001b[49m\u001b[43m)\u001b[49m\n\u001b[1;32m     12\u001b[0m \u001b[38;5;28mself\u001b[39m\u001b[38;5;241m.\u001b[39msendMsg(mutated_comment)\n\u001b[1;32m     13\u001b[0m \u001b[38;5;28mself\u001b[39m\u001b[38;5;241m.\u001b[39msendMsg(mutated_method)\n",
      "Cell \u001b[0;32mIn[31], line 10\u001b[0m, in \u001b[0;36mExplainableMutator.generate\u001b[0;34m(self, comment, method_body)\u001b[0m\n\u001b[1;32m      9\u001b[0m \u001b[38;5;28;01mdef\u001b[39;00m \u001b[38;5;21mgenerate\u001b[39m(\u001b[38;5;28mself\u001b[39m, comment, method_body):\n\u001b[0;32m---> 10\u001b[0m     mutated_comment \u001b[38;5;241m=\u001b[39m \u001b[43mpredict\u001b[49m\u001b[43m(\u001b[49m\u001b[38;5;28;43mself\u001b[39;49m\u001b[38;5;241;43m.\u001b[39;49m\u001b[43mcomment_mutation_model\u001b[49m\u001b[43m,\u001b[49m\u001b[43m \u001b[49m\u001b[38;5;28;43mself\u001b[39;49m\u001b[38;5;241;43m.\u001b[39;49m\u001b[43mcomment_mutation_tokenizer\u001b[49m\u001b[43m,\u001b[49m\u001b[43m \u001b[49m\n\u001b[1;32m     11\u001b[0m \u001b[43m                              \u001b[49m\u001b[43mcomment\u001b[49m\u001b[43m,\u001b[49m\u001b[43m \u001b[49m\u001b[43mcomment\u001b[49m\u001b[43m)\u001b[49m[\u001b[38;5;241m0\u001b[39m]\n\u001b[1;32m     12\u001b[0m     mutated_method \u001b[38;5;241m=\u001b[39m predict(\u001b[38;5;28mself\u001b[39m\u001b[38;5;241m.\u001b[39mmethod_mutation_model, \u001b[38;5;28mself\u001b[39m\u001b[38;5;241m.\u001b[39mmethod_mutation_tokenizer, \n\u001b[1;32m     13\u001b[0m                              method_body, method_body)[\u001b[38;5;241m0\u001b[39m]\n\u001b[1;32m     14\u001b[0m     \u001b[38;5;28;01mreturn\u001b[39;00m [mutated_comment, mutated_method]\n",
      "Cell \u001b[0;32mIn[25], line 4\u001b[0m, in \u001b[0;36mpredict\u001b[0;34m(model, tokenizer, code, gold)\u001b[0m\n\u001b[1;32m      3\u001b[0m \u001b[38;5;28;01mdef\u001b[39;00m \u001b[38;5;21mpredict\u001b[39m(model, tokenizer, code, gold):\n\u001b[0;32m----> 4\u001b[0m     input_ids \u001b[38;5;241m=\u001b[39m \u001b[43mtokenizer\u001b[49m\u001b[43m(\u001b[49m\u001b[43mcode\u001b[49m\u001b[43m,\u001b[49m\u001b[43m \u001b[49m\u001b[43mreturn_tensors\u001b[49m\u001b[38;5;241;43m=\u001b[39;49m\u001b[38;5;124;43m\"\u001b[39;49m\u001b[38;5;124;43mpt\u001b[39;49m\u001b[38;5;124;43m\"\u001b[39;49m\u001b[43m)\u001b[49m\u001b[38;5;241m.\u001b[39minput_ids\n\u001b[1;32m      5\u001b[0m     generated_ids \u001b[38;5;241m=\u001b[39m model\u001b[38;5;241m.\u001b[39mgenerate(input_ids\u001b[38;5;241m.\u001b[39mto(device))\n\u001b[1;32m      6\u001b[0m     \u001b[38;5;28;01mif\u001b[39;00m \u001b[38;5;28mlen\u001b[39m(generated_ids\u001b[38;5;241m.\u001b[39msize()) \u001b[38;5;241m==\u001b[39m \u001b[38;5;241m3\u001b[39m: \u001b[38;5;66;03m# decoder takes in a 2d tensor. If 3d, remove the outer dimension\u001b[39;00m\n",
      "File \u001b[0;32m~/anaconda3/envs/explainable-mutation/lib/python3.10/site-packages/transformers/tokenization_utils_base.py:2524\u001b[0m, in \u001b[0;36mPreTrainedTokenizerBase.__call__\u001b[0;34m(self, text, text_pair, text_target, text_pair_target, add_special_tokens, padding, truncation, max_length, stride, is_split_into_words, pad_to_multiple_of, return_tensors, return_token_type_ids, return_attention_mask, return_overflowing_tokens, return_special_tokens_mask, return_offsets_mapping, return_length, verbose, **kwargs)\u001b[0m\n\u001b[1;32m   2522\u001b[0m all_kwargs\u001b[38;5;241m.\u001b[39mupdate(kwargs)\n\u001b[1;32m   2523\u001b[0m \u001b[38;5;28;01mif\u001b[39;00m text \u001b[38;5;129;01mis\u001b[39;00m \u001b[38;5;28;01mNone\u001b[39;00m \u001b[38;5;129;01mand\u001b[39;00m text_target \u001b[38;5;129;01mis\u001b[39;00m \u001b[38;5;28;01mNone\u001b[39;00m:\n\u001b[0;32m-> 2524\u001b[0m     \u001b[38;5;28;01mraise\u001b[39;00m \u001b[38;5;167;01mValueError\u001b[39;00m(\u001b[38;5;124m\"\u001b[39m\u001b[38;5;124mYou need to specify either `text` or `text_target`.\u001b[39m\u001b[38;5;124m\"\u001b[39m)\n\u001b[1;32m   2525\u001b[0m \u001b[38;5;28;01mif\u001b[39;00m text \u001b[38;5;129;01mis\u001b[39;00m \u001b[38;5;129;01mnot\u001b[39;00m \u001b[38;5;28;01mNone\u001b[39;00m:\n\u001b[1;32m   2526\u001b[0m     \u001b[38;5;66;03m# The context manager will send the inputs as normal texts and not text_target, but we shouldn't change the\u001b[39;00m\n\u001b[1;32m   2527\u001b[0m     \u001b[38;5;66;03m# input mode in this case.\u001b[39;00m\n\u001b[1;32m   2528\u001b[0m     \u001b[38;5;28;01mif\u001b[39;00m \u001b[38;5;129;01mnot\u001b[39;00m \u001b[38;5;28mself\u001b[39m\u001b[38;5;241m.\u001b[39m_in_target_context_manager:\n",
      "\u001b[0;31mValueError\u001b[0m: You need to specify either `text` or `text_target`."
     ]
    }
   ],
   "source": [
    "server.start()"
   ]
  },
  {
   "cell_type": "code",
   "execution_count": null,
   "id": "1e74c8cf",
   "metadata": {},
   "outputs": [],
   "source": []
  }
 ],
 "metadata": {
  "kernelspec": {
   "display_name": "Python 3 (ipykernel)",
   "language": "python",
   "name": "python3"
  },
  "language_info": {
   "codemirror_mode": {
    "name": "ipython",
    "version": 3
   },
   "file_extension": ".py",
   "mimetype": "text/x-python",
   "name": "python",
   "nbconvert_exporter": "python",
   "pygments_lexer": "ipython3",
   "version": "3.10.10"
  }
 },
 "nbformat": 4,
 "nbformat_minor": 5
}
