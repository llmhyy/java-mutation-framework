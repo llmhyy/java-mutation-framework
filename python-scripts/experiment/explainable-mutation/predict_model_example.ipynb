{
 "cells": [
  {
   "cell_type": "code",
   "execution_count": 3,
   "id": "a9359dae",
   "metadata": {},
   "outputs": [],
   "source": [
    "import torch\n",
    "from transformers import RobertaTokenizer, T5ForConditionalGeneration\n",
    "tokenizer = RobertaTokenizer.from_pretrained('Salesforce/codet5-base-multi-sum')\n",
    "model = T5ForConditionalGeneration.from_pretrained('Salesforce/codet5-base-multi-sum')\n",
    "device = torch.device(\"cuda\" if torch.cuda.is_available() else \"cpu\")\n",
    "_ = model.to(device)"
   ]
  },
  {
   "cell_type": "code",
   "execution_count": 4,
   "id": "f36f8755",
   "metadata": {},
   "outputs": [],
   "source": [
    "def predict(model, code, gold):\n",
    "    input_ids = tokenizer(code, return_tensors=\"pt\").input_ids\n",
    "    generated_ids = model.generate(input_ids.to(device), max_length=64)\n",
    "    comment = tokenizer.decode(generated_ids[0], skip_special_tokens=True)\n",
    "    return comment, getSmoothBLEU4(gold, comment)"
   ]
  },
  {
   "cell_type": "code",
   "execution_count": 5,
   "id": "04259c7f",
   "metadata": {},
   "outputs": [],
   "source": [
    "import nltk\n",
    "from nltk.translate.bleu_score import SmoothingFunction\n",
    "chencherry = SmoothingFunction()\n",
    "def getSmoothBLEU4(gold, result):\n",
    "    BLEUscore = nltk.translate.bleu_score.sentence_bleu([gold.split()], result.split(), weights = [0.25,0.25,0.25,0.25], smoothing_function=chencherry.method2)\n",
    "    return round(BLEUscore,4)"
   ]
  },
  {
   "cell_type": "code",
   "execution_count": 5,
   "id": "a948115e",
   "metadata": {},
   "outputs": [],
   "source": [
    "code = '''\n",
    "public RequestMethodsRequestCondition getMatchingCondition(ServerWebExchange exchange) {\n",
    "                if (CorsUtils.isPreFlightRequest(exchange.getRequest())) {\n",
    "                        return matchPreFlight(exchange.getRequest());\n",
    "                }\n",
    "                if (getMethods().isEmpty()) {\n",
    "                        if (RequestMethod.OPTIONS.name().equals(exchange.getRequest().getMethodValue())) {\n",
    "                                return null; // We handle OPTIONS transparently, so don't match if no explicit declarations\n",
    "                        }\n",
    "                        return this;\n",
    "                }\n",
    "                return matchRequestMethod(exchange.getRequest().getMethod());\n",
    "        }\n",
    "\n",
    "'''"
   ]
  },
  {
   "cell_type": "code",
   "execution_count": 6,
   "id": "d9049fdd",
   "metadata": {},
   "outputs": [],
   "source": [
    "gold = 'check if any of the http request methods match the given request and return an instance that contains the matching http request method only'"
   ]
  },
  {
   "cell_type": "code",
   "execution_count": 9,
   "id": "b62a9c16",
   "metadata": {},
   "outputs": [
    {
     "data": {
      "text/plain": [
       "('Get matching condition.', 0.0004)"
      ]
     },
     "execution_count": 9,
     "metadata": {},
     "output_type": "execute_result"
    }
   ],
   "source": [
    "predict(model, code, gold)"
   ]
  },
  {
   "cell_type": "code",
   "execution_count": 2,
   "id": "435483af",
   "metadata": {},
   "outputs": [
    {
     "name": "stderr",
     "output_type": "stream",
     "text": [
      "Some weights of the model checkpoint at microsoft/graphcodebert-base were not used when initializing RobertaModel: ['lm_head.layer_norm.weight', 'lm_head.bias', 'lm_head.layer_norm.bias', 'lm_head.dense.weight', 'lm_head.decoder.weight', 'lm_head.decoder.bias', 'lm_head.dense.bias']\n",
      "- This IS expected if you are initializing RobertaModel from the checkpoint of a model trained on another task or with another architecture (e.g. initializing a BertForSequenceClassification model from a BertForPreTraining model).\n",
      "- This IS NOT expected if you are initializing RobertaModel from the checkpoint of a model that you expect to be exactly identical (initializing a BertForSequenceClassification model from a BertForSequenceClassification model).\n",
      "Some weights of RobertaModel were not initialized from the model checkpoint at microsoft/graphcodebert-base and are newly initialized: ['roberta.pooler.dense.bias', 'roberta.pooler.dense.weight']\n",
      "You should probably TRAIN this model on a down-stream task to be able to use it for predictions and inference.\n"
     ]
    }
   ],
   "source": [
    "import torch\n",
    "pretrained_model_name = \"microsoft/graphcodebert-base\"\n",
    "from transformers import RobertaTokenizer, RobertaConfig, RobertaModel\n",
    "from model import Seq2Seq\n",
    "MODEL_CLASSES = {'roberta': (RobertaConfig, RobertaModel, RobertaTokenizer)}\n",
    "config_class, model_class, tokenizer_class = MODEL_CLASSES['roberta']\n",
    "config = config_class.from_pretrained(pretrained_model_name)\n",
    "tokenizer = tokenizer_class.from_pretrained(pretrained_model_name)\n",
    "# build model\n",
    "encoder = model_class.from_pretrained(pretrained_model_name, config=config)\n",
    "decoder_layer = torch.nn.TransformerDecoderLayer(d_model=config.hidden_size, nhead=config.num_attention_heads)\n",
    "decoder = torch.nn.TransformerDecoder(decoder_layer, num_layers=6)\n",
    "pretrained_model = Seq2Seq(encoder=encoder, decoder=decoder, config=config,\n",
    "                beam_size=10, max_length=64,\n",
    "                sos_id=tokenizer.cls_token_id, eos_id=tokenizer.sep_token_id)\n",
    "device = torch.device(\"cuda\" if torch.cuda.is_available() else \"cpu\")"
   ]
  },
  {
   "cell_type": "code",
   "execution_count": 3,
   "id": "2d29dbb5",
   "metadata": {},
   "outputs": [],
   "source": [
    "import os\n",
    "def load_model(load_model_path='fine_tuned_models'):\n",
    "    # load the fine-tuned model\n",
    "    if load_model_path:\n",
    "        load_model_path = os.path.join(load_model_path, 'pytorch_model.bin')\n",
    "        pretrained_model.load_state_dict(torch.load(load_model_path, map_location='cpu'))\n",
    "    pretrained_model.to(device)\n",
    "load_model()"
   ]
  },
  {
   "cell_type": "code",
   "execution_count": 10,
   "id": "d37ff5f7",
   "metadata": {},
   "outputs": [],
   "source": [
    "def prediction(example):\n",
    "    pretrained_model.eval()\n",
    "    max_source_length=256\n",
    "    source_tokens = tokenizer.tokenize(example)[:max_source_length]\n",
    "    source_tokens =[tokenizer.cls_token]+source_tokens+[tokenizer.sep_token]\n",
    "    source_ids =  tokenizer.convert_tokens_to_ids(source_tokens) \n",
    "    source_mask = [1] * (len(source_tokens))\n",
    "    padding_length = max_source_length - len(source_ids)\n",
    "    source_ids+=[tokenizer.pad_token_id]*padding_length\n",
    "    source_mask+=[0]*padding_length\n",
    "    # feed to the model and predict the result\n",
    "    preds, score = pretrained_model(source_ids=torch.tensor([source_ids]).to(device), source_mask=torch.tensor([source_mask]).to(device))\n",
    "    result = []\n",
    "    for pred in preds:\n",
    "        t = pred[0].cpu().numpy()\n",
    "        t = list(t)\n",
    "        if 0 in t:\n",
    "            t = t[:t.index(0)]\n",
    "        text = tokenizer.decode(t, clean_up_tokenization_spaces=False)\n",
    "    result.append(text)\n",
    "    return result[0], score"
   ]
  },
  {
   "cell_type": "code",
   "execution_count": 11,
   "id": "6a99dc06",
   "metadata": {},
   "outputs": [],
   "source": [
    "code = '''\n",
    "public request methods request condition get matching condition ( server web exchange exchange ) { if ( cors utils is pre flight request ( exchange get request ( ) ) ) { return match pre flight ( exchange get request ( ) ) ; } if ( get methods ( ) is empty ( ) ) { if ( request method options name ( ) equals ( exchange get request ( ) get method value ( ) ) ) { return null ; / / we handle options transparently , so don ' t match if no explicit declarations } return this ; } return match request method ( exchange get request ( ) get method ( ) ) ; }\n",
    "'''"
   ]
  },
  {
   "cell_type": "code",
   "execution_count": 13,
   "id": "5847c657",
   "metadata": {},
   "outputs": [],
   "source": [
    "sample = {\"docstring_tokens\": [\"check\", \"if\", \"any\", \"of\", \"the\", \"http\", \"request\", \"methods\", \"match\", \"the\", \"given\", \"request\", \"and\", \"return\", \"an\", \"instance\", \"that\", \"contains\", \"the\", \"matching\", \"http\", \"request\", \"method\", \"only\"], \"code_tokens\": [\"public\", \"request\", \"methods\", \"request\", \"condition\", \"get\", \"matching\", \"condition\", \"(\", \"server\", \"web\", \"exchange\", \"exchange\", \")\", \"{\", \"if\", \"(\", \"cors\", \"utils\", \"is\", \"pre\", \"flight\", \"request\", \"(\", \"exchange\", \"get\", \"request\", \"(\", \")\", \")\", \")\", \"{\", \"return\", \"match\", \"pre\", \"flight\", \"(\", \"exchange\", \"get\", \"request\", \"(\", \")\", \")\", \";\", \"}\", \"if\", \"(\", \"get\", \"methods\", \"(\", \")\", \"is\", \"empty\", \"(\", \")\", \")\", \"{\", \"if\", \"(\", \"request\", \"method\", \"options\", \"name\", \"(\", \")\", \"equals\", \"(\", \"exchange\", \"get\", \"request\", \"(\", \")\", \"get\", \"method\", \"value\", \"(\", \")\", \")\", \")\", \"{\", \"return\", \"null\", \";\", \"/\", \"/\", \"we\", \"handle\", \"options\", \"transparently\", \",\", \"so\", \"don\", \"'\", \"t\", \"match\", \"if\", \"no\", \"explicit\", \"declarations\", \"}\", \"return\", \"this\", \";\", \"}\", \"return\", \"match\", \"request\", \"method\", \"(\", \"exchange\", \"get\", \"request\", \"(\", \")\", \"get\", \"method\", \"(\", \")\", \")\", \";\", \"}\"]}"
   ]
  },
  {
   "cell_type": "code",
   "execution_count": 12,
   "id": "80db9318",
   "metadata": {},
   "outputs": [
    {
     "name": "stderr",
     "output_type": "stream",
     "text": [
      "C:\\Users\\cai_yufan\\Downloads\\find_example\\model.py:166: UserWarning: __floordiv__ is deprecated, and its behavior will change in a future version of pytorch. It currently rounds toward 0 (like the 'trunc' function NOT 'floor'). This results in incorrect rounding for negative values. To keep the current behavior, use torch.div(a, b, rounding_mode='trunc'), or for actual floor division, use torch.div(a, b, rounding_mode='floor').\n",
      "  prevK = bestScoresId // numWords\n"
     ]
    },
    {
     "data": {
      "text/plain": [
       "('checks if any of the http request methods match the given request and returns a matching { @ link request methods request condition } if no match is defined , return { @ code null } otherwise',\n",
       " tensor(-14.6903, device='cuda:0'))"
      ]
     },
     "execution_count": 12,
     "metadata": {},
     "output_type": "execute_result"
    }
   ],
   "source": [
    "prediction(code)"
   ]
  },
  {
   "cell_type": "code",
   "execution_count": 16,
   "id": "b40425f8",
   "metadata": {},
   "outputs": [
    {
     "data": {
      "text/plain": [
       "\"public request methods request condition get matching condition ( server web exchange exchange ) { if ( cors utils is pre flight request ( exchange get request ( ) ) ) { return match pre flight ( exchange get request ( ) ) ; } if ( get methods ( ) is empty ( ) ) { if ( request method options name ( ) equals ( exchange get request ( ) get method value ( ) ) ) { return null ; / / we handle options transparently , so don ' t match if no explicit declarations } return this ; } return match request method ( exchange get request ( ) get method ( ) ) ; }\""
      ]
     },
     "execution_count": 16,
     "metadata": {},
     "output_type": "execute_result"
    }
   ],
   "source": [
    "' '.join(sample['code_tokens'])"
   ]
  },
  {
   "cell_type": "code",
   "execution_count": 15,
   "id": "a005c74e",
   "metadata": {},
   "outputs": [
    {
     "data": {
      "text/plain": [
       "('checks if any of the configured http request methods match the given request and returns a { @ link request methods request condition } if no match is found , return { @ code null } otherwise',\n",
       " tensor(-15.1087, device='cuda:0'))"
      ]
     },
     "execution_count": 15,
     "metadata": {},
     "output_type": "execute_result"
    }
   ],
   "source": [
    "prediction(' '.join(sample['code_tokens']))"
   ]
  },
  {
   "cell_type": "code",
   "execution_count": null,
   "id": "9e7f7111",
   "metadata": {},
   "outputs": [],
   "source": []
  }
 ],
 "metadata": {
  "kernelspec": {
   "display_name": "Python 3 (ipykernel)",
   "language": "python",
   "name": "python3"
  },
  "language_info": {
   "codemirror_mode": {
    "name": "ipython",
    "version": 3
   },
   "file_extension": ".py",
   "mimetype": "text/x-python",
   "name": "python",
   "nbconvert_exporter": "python",
   "pygments_lexer": "ipython3",
   "version": "3.8.13"
  }
 },
 "nbformat": 4,
 "nbformat_minor": 5
}
