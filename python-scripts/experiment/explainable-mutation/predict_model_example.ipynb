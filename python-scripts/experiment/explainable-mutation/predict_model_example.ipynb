{
 "cells": [
  {
   "cell_type": "code",
   "execution_count": 2,
   "id": "b5049eaa",
   "metadata": {},
   "outputs": [
    {
     "name": "stderr",
     "output_type": "stream",
     "text": [
      "/home/chenghin/anaconda3/envs/explainable-mutation/lib/python3.10/site-packages/tqdm/auto.py:21: TqdmWarning: IProgress not found. Please update jupyter and ipywidgets. See https://ipywidgets.readthedocs.io/en/stable/user_install.html\n",
      "  from .autonotebook import tqdm as notebook_tqdm\n"
     ]
    }
   ],
   "source": [
    "import torch\n",
    "device = torch.device(\"cuda\" if torch.cuda.is_available() else \"cpu\")"
   ]
  },
  {
   "cell_type": "code",
   "execution_count": 3,
   "id": "435483af",
   "metadata": {},
   "outputs": [
    {
     "name": "stdout",
     "output_type": "stream",
     "text": [
      "Updated!!!\n"
     ]
    }
   ],
   "source": [
    "from model import Seq2Seq\n",
    "from transformers import RobertaTokenizer, RobertaConfig, RobertaModel\n",
    "\n",
    "pretrained_model_name = \"microsoft/unixcoder-base\"\n",
    "\n",
    "# build model\n",
    "tokenizer = RobertaTokenizer.from_pretrained(pretrained_model_name)\n",
    "config = RobertaConfig.from_pretrained(pretrained_model_name)\n",
    "# import！！！you must set is_decoder as True for generation\n",
    "config.is_decoder = True\n",
    "encoder = RobertaModel.from_pretrained(pretrained_model_name,config=config) \n",
    "\n",
    "model = Seq2Seq(encoder=encoder,decoder=encoder,config=config,\n",
    "                beam_size=10,max_length=256,\n",
    "                sos_id=tokenizer.convert_tokens_to_ids([\"<mask0>\"])[0],eos_id=tokenizer.sep_token_id)"
   ]
  },
  {
   "cell_type": "code",
   "execution_count": 4,
   "id": "2d29dbb5",
   "metadata": {},
   "outputs": [],
   "source": [
    "import os\n",
    "def load_model(model, load_model_path='fine_tuned_models'):\n",
    "    model_to_load = model.module if hasattr(model, 'module') else model\n",
    "    load_model_path = os.path.join(load_model_path, 'pytorch_model.bin')\n",
    "    model.load_state_dict(torch.load(load_model_path, map_location='cpu'))\n",
    "    model.to(device)\n",
    "load_model(model, '/home/chenghin/Desktop/repos/java-mutation-framework/models/code-generation/saved_models/checkpoint-best-score')"
   ]
  },
  {
   "cell_type": "code",
   "execution_count": 5,
   "id": "f36f8755",
   "metadata": {},
   "outputs": [],
   "source": [
    "def predict(model, code, gold):\n",
    "    input_ids = tokenizer(code, return_tensors=\"pt\").input_ids\n",
    "    generated_ids = model.generate(input_ids.to(device))\n",
    "    comment = tokenizer.decode(generated_ids[0][0], skip_special_tokens=True)\n",
    "    return comment, getSmoothBLEU4(gold, comment)"
   ]
  },
  {
   "cell_type": "code",
   "execution_count": 6,
   "id": "04259c7f",
   "metadata": {},
   "outputs": [],
   "source": [
    "import nltk\n",
    "from nltk.translate.bleu_score import SmoothingFunction\n",
    "chencherry = SmoothingFunction()\n",
    "def getSmoothBLEU4(gold, result):\n",
    "    BLEUscore = nltk.translate.bleu_score.sentence_bleu([gold.split()], result.split(), weights = [0.25,0.25,0.25,0.25], smoothing_function=chencherry.method2)\n",
    "    return round(BLEUscore,4)"
   ]
  },
  {
   "cell_type": "code",
   "execution_count": 7,
   "id": "a948115e",
   "metadata": {},
   "outputs": [],
   "source": [
    "code = '''\n",
    "public RequestMethodsRequestCondition getMatchingCondition(ServerWebExchange exchange) {\n",
    "                if (CorsUtils.isPreFlightRequest(exchange.getRequest())) {\n",
    "                        return matchPreFlight(exchange.getRequest());\n",
    "                }\n",
    "                if (getMethods().isEmpty()) {\n",
    "                        if (RequestMethod.OPTIONS.name().equals(exchange.getRequest().getMethodValue())) {\n",
    "                                return null; // We handle OPTIONS transparently, so don't match if no explicit declarations\n",
    "                        }\n",
    "                        return this;\n",
    "                }\n",
    "                return matchRequestMethod(exchange.getRequest().getMethod());\n",
    "        }\n",
    "\n",
    "'''"
   ]
  },
  {
   "cell_type": "code",
   "execution_count": 8,
   "id": "d9049fdd",
   "metadata": {},
   "outputs": [],
   "source": [
    "gold = 'check if any of the http request methods match the given request and return an instance that contains the matching http request method only'"
   ]
  },
  {
   "cell_type": "code",
   "execution_count": 9,
   "id": "a26c7b59",
   "metadata": {},
   "outputs": [
    {
     "data": {
      "text/plain": [
       "(\"public RequestMethodsRequestCondition getMatchingCondition(ServerWebExchange exchange) {\\n                if (CorsUtils.isPreFlightRequest(exchange.getRequest())) {\\n                        return matchPreFlight(exchange.getRequest());\\n                }\\n                if (getMethods().isEmpty()) {\\n                        if (RequestMethod.OPTIONS.name().equals(exchange.getRequest().getMethodValue())) {\\n                                return null; // We handle OPTIONS transparently, so don't match if no explicit declarations\\n                        }\\n                        return this;\\n                }\",\n",
       " 0.0384)"
      ]
     },
     "execution_count": 9,
     "metadata": {},
     "output_type": "execute_result"
    }
   ],
   "source": [
    "predict(model, code, gold)"
   ]
  },
  {
   "cell_type": "code",
   "execution_count": null,
   "id": "9e7f7111",
   "metadata": {},
   "outputs": [],
   "source": []
  }
 ],
 "metadata": {
  "kernelspec": {
   "display_name": "Python 3 (ipykernel)",
   "language": "python",
   "name": "python3"
  },
  "language_info": {
   "codemirror_mode": {
    "name": "ipython",
    "version": 3
   },
   "file_extension": ".py",
   "mimetype": "text/x-python",
   "name": "python",
   "nbconvert_exporter": "python",
   "pygments_lexer": "ipython3",
   "version": "3.10.10"
  }
 },
 "nbformat": 4,
 "nbformat_minor": 5
}
