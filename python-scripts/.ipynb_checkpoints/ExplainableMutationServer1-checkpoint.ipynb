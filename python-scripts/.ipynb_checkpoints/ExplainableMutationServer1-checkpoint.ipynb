{
 "cells": [
  {
   "cell_type": "code",
   "execution_count": 1,
   "id": "d4e4834b",
   "metadata": {},
   "outputs": [
    {
     "name": "stdout",
     "output_type": "stream",
     "text": [
      "['/home/chenghin/Desktop/repos/project-miner/codet5-python-server', '/home/chenghin/anaconda3/envs/codet5/lib/python39.zip', '/home/chenghin/anaconda3/envs/codet5/lib/python3.9', '/home/chenghin/anaconda3/envs/codet5/lib/python3.9/lib-dynload', '', '/home/chenghin/anaconda3/envs/codet5/lib/python3.9/site-packages']\n"
     ]
    }
   ],
   "source": [
    "# Using the SEBIS/code_trans_t5_large_code_comment_generation_java_multitask_finetune model\n",
    "# Check venv\n",
    "import sys\n",
    "print(sys.path)"
   ]
  },
  {
   "cell_type": "code",
   "execution_count": 16,
   "id": "92a43efe",
   "metadata": {},
   "outputs": [],
   "source": [
    "!pip install -q transformers sentencepiece"
   ]
  },
  {
   "cell_type": "code",
   "execution_count": 19,
   "id": "efb41720",
   "metadata": {},
   "outputs": [],
   "source": [
    "from transformers import AutoTokenizer, AutoModelWithLMHead, SummarizationPipeline, AutoModel"
   ]
  },
  {
   "cell_type": "code",
   "execution_count": 5,
   "id": "f58d1ca8",
   "metadata": {},
   "outputs": [
    {
     "name": "stdout",
     "output_type": "stream",
     "text": [
      "Requirement already satisfied: javalang in /home/chenghin/anaconda3/envs/codet5/lib/python3.9/site-packages (0.13.0)\r\n",
      "Requirement already satisfied: six in /home/chenghin/anaconda3/envs/codet5/lib/python3.9/site-packages (from javalang) (1.16.0)\r\n"
     ]
    }
   ],
   "source": [
    "!pip install javalang\n",
    "import javalang"
   ]
  },
  {
   "cell_type": "code",
   "execution_count": 6,
   "id": "924849a8",
   "metadata": {},
   "outputs": [],
   "source": [
    "def tokenize_java_code(code):\n",
    "    tokenList = []\n",
    "    tokens = list(javalang.tokenizer.tokenize(code))\n",
    "    for token in tokens:\n",
    "        tokenList.append(token.value)\n",
    "    \n",
    "    return ' '.join(tokenList)"
   ]
  },
  {
   "cell_type": "code",
   "execution_count": 8,
   "id": "a0aba2c9",
   "metadata": {},
   "outputs": [],
   "source": [
    "%run ./SocketServer.ipynb"
   ]
  },
  {
   "cell_type": "code",
   "execution_count": 28,
   "id": "83f2b831",
   "metadata": {},
   "outputs": [],
   "source": [
    "from transformers import RobertaTokenizer, T5ForConditionalGeneration\n",
    "class CodeTrans:\n",
    "    def __init__(self):\n",
    "        self.pipeline = SummarizationPipeline(\n",
    "            model=AutoModelWithLMHead.from_pretrained(\"SEBIS/code_trans_t5_base_code_comment_generation_java_transfer_learning_finetune\"),\n",
    "            tokenizer=AutoTokenizer.from_pretrained(\"SEBIS/code_trans_t5_base_code_comment_generation_java_transfer_learning_finetune\", skip_special_tokens=True),\n",
    "            device=0\n",
    "        )\n",
    "    \n",
    "    def generate(self, methodBody):\n",
    "        tokenized_code = tokenize_java_code(methodBody)\n",
    "        return self.pipeline([tokenized_code])[0][\"summary_text\"]"
   ]
  },
  {
   "cell_type": "code",
   "execution_count": 29,
   "id": "b650a52a",
   "metadata": {},
   "outputs": [],
   "source": [
    "class CodeTransSocketServer(SocketServer):\n",
    "    def __init__(self, host, port, code_trans):\n",
    "        super().__init__(host, port)\n",
    "        self.code_trans = code_trans\n",
    "    \n",
    "    def func(self):\n",
    "        while True:\n",
    "            print(\"-\"*20)\n",
    "            buggy_method = self.recvMsg()\n",
    "            buggy_summary = self.code_trans.generate(buggy_method)\n",
    "            self.sendMsg(buggy_summary)\n",
    "            fixed_method = self.recvMsg()\n",
    "            fixed_summary = self.code_trans.generate(fixed_method)\n",
    "            self.sendMsg(fixed_summary)"
   ]
  },
  {
   "cell_type": "code",
   "execution_count": 30,
   "id": "a8ae96ec",
   "metadata": {},
   "outputs": [],
   "source": [
    "HOST = \"127.0.0.1\"\n",
    "PORT = 8080\n",
    "server = CodeTransSocketServer(HOST, PORT, CodeTrans())"
   ]
  },
  {
   "cell_type": "code",
   "execution_count": 39,
   "id": "2463aa83",
   "metadata": {},
   "outputs": [
    {
     "name": "stdout",
     "output_type": "stream",
     "text": [
      "env: PYTORCH_CUDA_ALLOC_CONF=garbage_collection_threshold:0.6,max_split_size_mb:128\n"
     ]
    }
   ],
   "source": [
    "%env PYTORCH_CUDA_ALLOC_CONF=garbage_collection_threshold:0.6,max_split_size_mb:128"
   ]
  },
  {
   "cell_type": "code",
   "execution_count": 40,
   "id": "1575de62",
   "metadata": {},
   "outputs": [
    {
     "name": "stdout",
     "output_type": "stream",
     "text": [
      "garbage_collection_threshold:0.6,max_split_size_mb:128\r\n"
     ]
    }
   ],
   "source": [
    "!echo $PYTORCH_CUDA_ALLOC_CONF"
   ]
  },
  {
   "cell_type": "code",
   "execution_count": null,
   "id": "04d21fbf",
   "metadata": {},
   "outputs": [
    {
     "name": "stdout",
     "output_type": "stream",
     "text": [
      "Connected by ('127.0.0.1', 33628)\n",
      "--------------------\n",
      "response: b'Create a new connection to a YYlin database .'\n",
      "response: b'Create a new connection to a YYlin database .'\n",
      "--------------------\n",
      "response: b'Throw an exception indicating the requested parameter is missing .'\n",
      "response: b'Throw a MissingServletRequestParameterException .'\n",
      "--------------------\n",
      "response: b'Handling of narrowed types is trickier , since caller has to specify the subclass to use'\n",
      "response: b'Copies from the java.lang.Class , handling different class ( e.g . Collection'\n",
      "--------------------\n",
      "response: b'set if the view is enabled'\n",
      "response: b'set if this item is enabled'\n",
      "--------------------\n",
      "response: b'Execute the run job . This method does not block .'\n",
      "response: b'Execute the run job . This method does not block .'\n",
      "--------------------\n",
      "response: b'Creates the < code > ToolWindowManager < /code > object .'\n",
      "response: b'Creates the < code > ToolWindowManager < /code > object .'\n",
      "--------------------\n",
      "response: b'Create a new MBean .'\n",
      "response: b'Create a new MBean .'\n",
      "--------------------\n",
      "response: b'Raises common error codes , i.e . namespace not found in db .'\n",
      "response: b'Raises common error codes , i.e. , for database namespace not found Exceptions and'\n",
      "--------------------\n",
      "response: b'Get URL to database .'\n",
      "response: b'Get URL to database .'\n",
      "--------------------\n",
      "response: b'Internal method to start the sync'\n",
      "response: b'Internal method to start the sync adapter'\n",
      "--------------------\n",
      "response: b'Returns a mapped object . If the id field is present in the query , the id will be'\n",
      "response: b'Returns a mapped object . If the id field is present in the query , the id will be'\n",
      "--------------------\n"
     ]
    },
    {
     "name": "stderr",
     "output_type": "stream",
     "text": [
      "Your max_length is set to 20, but you input_length is only 19. You might consider decreasing max_length manually, e.g. summarizer('...', max_length=9)\n"
     ]
    },
    {
     "name": "stdout",
     "output_type": "stream",
     "text": [
      "response: b'Always throws NoSuchMethodError .'\n",
      "response: b'This operation is not supported .'\n",
      "--------------------\n",
      "response: b'Write the command to the specified ObjectOutput .'\n",
      "response: b'Write the command to the specified ObjectOutput .'\n",
      "--------------------\n",
      "response: b'This is the message from the base class .'\n",
      "response: b'This is the message from the base class .'\n",
      "--------------------\n",
      "response: b'Get list of actions to be added as dependency for given reference element .'\n",
      "response: b'Get list of actions to be added as dependency in reference .'\n",
      "--------------------\n",
      "response: b'Regenerates the list of services that we have seen recently .'\n",
      "response: b'Regenerates the list of services that we have seen recently .'\n",
      "--------------------\n",
      "response: b'Finds a type descriptor for the given element name under the given schema .'\n",
      "response: b'Finds a type descriptor for the given root tag .'\n",
      "--------------------\n",
      "response: b'Calculate locations for spurious activities .'\n",
      "response: b'Calculate locations for each schedule alarm type based on settings'\n",
      "--------------------\n",
      "response: b'Determines if an item should be dropped from the world .'\n",
      "response: b'Determines if an item should be dropped from the world .'\n",
      "--------------------\n",
      "response: b'Check that the value is not null .'\n",
      "response: b'Check that the value is not null .'\n",
      "--------------------\n",
      "response: b'Retrieves all records with a given id .'\n",
      "response: b'Fetches the records with IDs beginning with firstId .'\n",
      "--------------------\n",
      "response: b'Parses the Swagger document to build a Swagger model from the passed RestDefinition .'\n",
      "response: b'Parses the Swagger document to build a Swagger model .'\n",
      "--------------------\n",
      "response: b'Stop the local hotspot a dedicated pattern .'\n",
      "response: b'Stop the hotspot at the location that is currently being used by the app .'\n",
      "--------------------\n",
      "response: b'Sets the sin and cos values of the ellipse'\n",
      "response: b'Sets the sin and cos values of the ellipse , specified by px and py .'\n",
      "--------------------\n",
      "response: b'This method is called when a long stack taken off the wire . The return value is the offset'\n",
      "response: b'This method is for bit manipulation of the stack take a copy of the given ioList .'\n",
      "--------------------\n",
      "response: b'Creates a printing event listener object .'\n",
      "response: b'Constructs the printing event listener given a call ID and a call start time .'\n",
      "--------------------\n",
      "response: b'Load metadata from file . If metadata location is not specified in SAML metadata file load metadata from local'\n",
      "response: b'Load metadata from file . If metadata location is not specified in SAML metadata file load metadata from local'\n",
      "--------------------\n",
      "response: b'Dismiss the transaction screen rotation animation .'\n",
      "response: b'Dismiss the transaction screen rotation animation .'\n",
      "--------------------\n",
      "response: b'Get the mask used for truncating a field .'\n",
      "response: b'Get the mask used for truncating a field .'\n",
      "--------------------\n",
      "response: b'Marks app as viewed .'\n",
      "response: b'Marks app as viewed .'\n",
      "--------------------\n"
     ]
    },
    {
     "name": "stderr",
     "output_type": "stream",
     "text": [
      "Your max_length is set to 20, but you input_length is only 19. You might consider decreasing max_length manually, e.g. summarizer('...', max_length=9)\n"
     ]
    },
    {
     "name": "stdout",
     "output_type": "stream",
     "text": [
      "response: b'Sets if the module should import static imports . This is a compilation language only .'\n",
      "response: b'Sets if the module should import static imports . This is useful on the compiler for module access'\n",
      "--------------------\n",
      "response: b'Blacklists an object .'\n",
      "response: b'Blacklists an object .'\n",
      "--------------------\n",
      "response: b'Starts the transition of the thumbnail to the top position , this is the first place where a'\n",
      "response: b'Starts the transition of the thumbnail to the top position , this is the first place where a'\n",
      "--------------------\n",
      "response: b'Convert an inline class to a primitive type . For example , unbox MyClass ( A ,'\n",
      "response: b'Convert an inline class to a primitive type . For example , unbox MyClass ( A ,'\n",
      "--------------------\n",
      "response: b'Draw a uniform3iv with the given count .'\n",
      "response: b'Draw a uniform3iv .'\n",
      "--------------------\n",
      "response: b'Creates list of users with given input array .'\n",
      "response: b'Creates list of users with given input array .'\n",
      "--------------------\n",
      "response: b'Return the connection info for the current network . The returned object may be a local , remote ,'\n",
      "response: b'Return the current connection info for the device . This information is only available from the device the user'\n",
      "--------------------\n",
      "response: b'< p > Get the admin roles for the theme display < /p >'\n",
      "response: b'< p > Get the admin roles for the theme display < /p >'\n",
      "--------------------\n",
      "response: b'**************************** SurfaceHolder.Callback Start'\n",
      "response: b'**************************** SurfaceHolder.Callback Start'\n",
      "--------------------\n"
     ]
    },
    {
     "name": "stderr",
     "output_type": "stream",
     "text": [
      "Your max_length is set to 20, but you input_length is only 16. You might consider decreasing max_length manually, e.g. summarizer('...', max_length=8)\n",
      "Your max_length is set to 20, but you input_length is only 16. You might consider decreasing max_length manually, e.g. summarizer('...', max_length=8)\n"
     ]
    },
    {
     "name": "stdout",
     "output_type": "stream",
     "text": [
      "response: b'Called when the current playback state changes .'\n",
      "response: b'Called when the playback state changes .'\n",
      "--------------------\n",
      "response: b'Invokes IApplicationThread.dumpService ( ) on the thread of the specified service if there'\n",
      "response: b'Invokes IApplicationThread.dumpService ( ) on the thread of the specified service if there'\n",
      "--------------------\n",
      "response: b'Serialize the state the Watch as JSON'\n",
      "response: b'Serialize the state the Watch as JSON'\n",
      "--------------------\n",
      "response: b'Add a column for the first issue .'\n",
      "response: b'Add a column for the first issue .'\n",
      "--------------------\n"
     ]
    }
   ],
   "source": [
    "server.start()"
   ]
  },
  {
   "cell_type": "code",
   "execution_count": null,
   "id": "aa000925",
   "metadata": {},
   "outputs": [],
   "source": []
  }
 ],
 "metadata": {
  "kernelspec": {
   "display_name": "Python 3 (ipykernel)",
   "language": "python",
   "name": "python3"
  },
  "language_info": {
   "codemirror_mode": {
    "name": "ipython",
    "version": 3
   },
   "file_extension": ".py",
   "mimetype": "text/x-python",
   "name": "python",
   "nbconvert_exporter": "python",
   "pygments_lexer": "ipython3",
   "version": "3.10.10"
  }
 },
 "nbformat": 4,
 "nbformat_minor": 5
}
